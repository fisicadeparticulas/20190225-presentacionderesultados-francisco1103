{
  "nbformat": 4,
  "nbformat_minor": 0,
  "metadata": {
    "colab": {
      "name": "Copia de Untitled1.ipynb",
      "version": "0.3.2",
      "provenance": []
    },
    "kernelspec": {
      "name": "python3",
      "display_name": "Python 3"
    }
  },
  "cells": [
    {
      "metadata": {
        "id": "cvYJ28HPwN3t",
        "colab_type": "code",
        "outputId": "a982d06e-baa5-4b21-acf4-cb1d47f9b78d",
        "colab": {
          "base_uri": "https://localhost:8080/",
          "height": 253
        }
      },
      "cell_type": "code",
      "source": [
        "import pandas as pd\n",
        "import numpy as np\n",
        "import matplotlib.pyplot as plt\n",
        "from scipy.stats import norm\n",
        "\n",
        "muons= pd.read_csv('https://goo.gl/sp8gYx')\n",
        "muons.head()"
      ],
      "execution_count": 0,
      "outputs": [
        {
          "output_type": "execute_result",
          "data": {
            "text/html": [
              "<div>\n",
              "<style scoped>\n",
              "    .dataframe tbody tr th:only-of-type {\n",
              "        vertical-align: middle;\n",
              "    }\n",
              "\n",
              "    .dataframe tbody tr th {\n",
              "        vertical-align: top;\n",
              "    }\n",
              "\n",
              "    .dataframe thead th {\n",
              "        text-align: right;\n",
              "    }\n",
              "</style>\n",
              "<table border=\"1\" class=\"dataframe\">\n",
              "  <thead>\n",
              "    <tr style=\"text-align: right;\">\n",
              "      <th></th>\n",
              "      <th>Run</th>\n",
              "      <th>Event</th>\n",
              "      <th>type1</th>\n",
              "      <th>Q1</th>\n",
              "      <th>pt1</th>\n",
              "      <th>eta1</th>\n",
              "      <th>phi1</th>\n",
              "      <th>E1</th>\n",
              "      <th>px1</th>\n",
              "      <th>py1</th>\n",
              "      <th>...</th>\n",
              "      <th>type2</th>\n",
              "      <th>Q2</th>\n",
              "      <th>pt2</th>\n",
              "      <th>eta2</th>\n",
              "      <th>phi2</th>\n",
              "      <th>E2</th>\n",
              "      <th>px2</th>\n",
              "      <th>py2</th>\n",
              "      <th>pz2</th>\n",
              "      <th>M</th>\n",
              "    </tr>\n",
              "  </thead>\n",
              "  <tbody>\n",
              "    <tr>\n",
              "      <th>0</th>\n",
              "      <td>166699</td>\n",
              "      <td>835716681</td>\n",
              "      <td>G</td>\n",
              "      <td>1</td>\n",
              "      <td>4.2116</td>\n",
              "      <td>2.2366</td>\n",
              "      <td>-0.4849</td>\n",
              "      <td>19.9382</td>\n",
              "      <td>3.7261</td>\n",
              "      <td>-1.9631</td>\n",
              "      <td>...</td>\n",
              "      <td>T</td>\n",
              "      <td>-1</td>\n",
              "      <td>1.2556</td>\n",
              "      <td>2.2683</td>\n",
              "      <td>-1.4488</td>\n",
              "      <td>6.1319</td>\n",
              "      <td>0.1528</td>\n",
              "      <td>-1.2463</td>\n",
              "      <td>6.0011</td>\n",
              "      <td>2.1330</td>\n",
              "    </tr>\n",
              "    <tr>\n",
              "      <th>1</th>\n",
              "      <td>166699</td>\n",
              "      <td>836133459</td>\n",
              "      <td>G</td>\n",
              "      <td>-1</td>\n",
              "      <td>2.1479</td>\n",
              "      <td>-2.0159</td>\n",
              "      <td>-2.7753</td>\n",
              "      <td>8.2066</td>\n",
              "      <td>-2.0055</td>\n",
              "      <td>-0.7692</td>\n",
              "      <td>...</td>\n",
              "      <td>G</td>\n",
              "      <td>1</td>\n",
              "      <td>19.5453</td>\n",
              "      <td>-1.0826</td>\n",
              "      <td>-0.3408</td>\n",
              "      <td>32.1613</td>\n",
              "      <td>18.4210</td>\n",
              "      <td>-6.5332</td>\n",
              "      <td>-25.5406</td>\n",
              "      <td>13.6786</td>\n",
              "    </tr>\n",
              "    <tr>\n",
              "      <th>2</th>\n",
              "      <td>166699</td>\n",
              "      <td>836165498</td>\n",
              "      <td>G</td>\n",
              "      <td>1</td>\n",
              "      <td>21.0732</td>\n",
              "      <td>1.5948</td>\n",
              "      <td>-1.1137</td>\n",
              "      <td>54.0560</td>\n",
              "      <td>9.2997</td>\n",
              "      <td>-18.9102</td>\n",
              "      <td>...</td>\n",
              "      <td>T</td>\n",
              "      <td>-1</td>\n",
              "      <td>2.3864</td>\n",
              "      <td>1.5352</td>\n",
              "      <td>-1.7388</td>\n",
              "      <td>5.7968</td>\n",
              "      <td>-0.3991</td>\n",
              "      <td>-2.3528</td>\n",
              "      <td>5.2818</td>\n",
              "      <td>4.3813</td>\n",
              "    </tr>\n",
              "    <tr>\n",
              "      <th>3</th>\n",
              "      <td>166699</td>\n",
              "      <td>836249706</td>\n",
              "      <td>G</td>\n",
              "      <td>1</td>\n",
              "      <td>18.5889</td>\n",
              "      <td>1.6422</td>\n",
              "      <td>1.1923</td>\n",
              "      <td>49.8180</td>\n",
              "      <td>6.8688</td>\n",
              "      <td>17.2734</td>\n",
              "      <td>...</td>\n",
              "      <td>G</td>\n",
              "      <td>-1</td>\n",
              "      <td>1.8721</td>\n",
              "      <td>1.9704</td>\n",
              "      <td>1.6393</td>\n",
              "      <td>6.8459</td>\n",
              "      <td>-0.1281</td>\n",
              "      <td>1.8678</td>\n",
              "      <td>6.5841</td>\n",
              "      <td>3.2587</td>\n",
              "    </tr>\n",
              "    <tr>\n",
              "      <th>4</th>\n",
              "      <td>166699</td>\n",
              "      <td>835608783</td>\n",
              "      <td>G</td>\n",
              "      <td>-1</td>\n",
              "      <td>11.8194</td>\n",
              "      <td>0.8711</td>\n",
              "      <td>-1.5811</td>\n",
              "      <td>16.5947</td>\n",
              "      <td>-0.1214</td>\n",
              "      <td>-11.8187</td>\n",
              "      <td>...</td>\n",
              "      <td>T</td>\n",
              "      <td>1</td>\n",
              "      <td>0.9408</td>\n",
              "      <td>2.0107</td>\n",
              "      <td>-1.6559</td>\n",
              "      <td>3.5779</td>\n",
              "      <td>-0.0799</td>\n",
              "      <td>-0.9374</td>\n",
              "      <td>3.4504</td>\n",
              "      <td>4.0171</td>\n",
              "    </tr>\n",
              "  </tbody>\n",
              "</table>\n",
              "<p>5 rows × 21 columns</p>\n",
              "</div>"
            ],
            "text/plain": [
              "      Run      Event type1  Q1      pt1    eta1    phi1       E1     px1  \\\n",
              "0  166699  835716681     G   1   4.2116  2.2366 -0.4849  19.9382  3.7261   \n",
              "1  166699  836133459     G  -1   2.1479 -2.0159 -2.7753   8.2066 -2.0055   \n",
              "2  166699  836165498     G   1  21.0732  1.5948 -1.1137  54.0560  9.2997   \n",
              "3  166699  836249706     G   1  18.5889  1.6422  1.1923  49.8180  6.8688   \n",
              "4  166699  835608783     G  -1  11.8194  0.8711 -1.5811  16.5947 -0.1214   \n",
              "\n",
              "       py1   ...     type2 Q2      pt2    eta2    phi2       E2      px2  \\\n",
              "0  -1.9631   ...         T -1   1.2556  2.2683 -1.4488   6.1319   0.1528   \n",
              "1  -0.7692   ...         G  1  19.5453 -1.0826 -0.3408  32.1613  18.4210   \n",
              "2 -18.9102   ...         T -1   2.3864  1.5352 -1.7388   5.7968  -0.3991   \n",
              "3  17.2734   ...         G -1   1.8721  1.9704  1.6393   6.8459  -0.1281   \n",
              "4 -11.8187   ...         T  1   0.9408  2.0107 -1.6559   3.5779  -0.0799   \n",
              "\n",
              "      py2      pz2        M  \n",
              "0 -1.2463   6.0011   2.1330  \n",
              "1 -6.5332 -25.5406  13.6786  \n",
              "2 -2.3528   5.2818   4.3813  \n",
              "3  1.8678   6.5841   3.2587  \n",
              "4 -0.9374   3.4504   4.0171  \n",
              "\n",
              "[5 rows x 21 columns]"
            ]
          },
          "metadata": {
            "tags": []
          },
          "execution_count": 1
        }
      ]
    },
    {
      "metadata": {
        "id": "IqwueYElwVjN",
        "colab_type": "code",
        "outputId": "27ff1f97-d7ea-48ec-e97a-a517ad290777",
        "colab": {
          "base_uri": "https://localhost:8080/",
          "height": 253
        }
      },
      "cell_type": "code",
      "source": [
        "muons['Masainvariante']=(((muons.E1+muons.E2)**2)-(((muons.px1+muons.px2)**2)+((muons.py1+muons.py2)**2)+((muons.pz1+muons.pz2)**2)))**.5\n",
        "muons.head()"
      ],
      "execution_count": 0,
      "outputs": [
        {
          "output_type": "execute_result",
          "data": {
            "text/html": [
              "<div>\n",
              "<style scoped>\n",
              "    .dataframe tbody tr th:only-of-type {\n",
              "        vertical-align: middle;\n",
              "    }\n",
              "\n",
              "    .dataframe tbody tr th {\n",
              "        vertical-align: top;\n",
              "    }\n",
              "\n",
              "    .dataframe thead th {\n",
              "        text-align: right;\n",
              "    }\n",
              "</style>\n",
              "<table border=\"1\" class=\"dataframe\">\n",
              "  <thead>\n",
              "    <tr style=\"text-align: right;\">\n",
              "      <th></th>\n",
              "      <th>Run</th>\n",
              "      <th>Event</th>\n",
              "      <th>type1</th>\n",
              "      <th>Q1</th>\n",
              "      <th>pt1</th>\n",
              "      <th>eta1</th>\n",
              "      <th>phi1</th>\n",
              "      <th>E1</th>\n",
              "      <th>px1</th>\n",
              "      <th>py1</th>\n",
              "      <th>...</th>\n",
              "      <th>Q2</th>\n",
              "      <th>pt2</th>\n",
              "      <th>eta2</th>\n",
              "      <th>phi2</th>\n",
              "      <th>E2</th>\n",
              "      <th>px2</th>\n",
              "      <th>py2</th>\n",
              "      <th>pz2</th>\n",
              "      <th>M</th>\n",
              "      <th>Masainvariante</th>\n",
              "    </tr>\n",
              "  </thead>\n",
              "  <tbody>\n",
              "    <tr>\n",
              "      <th>0</th>\n",
              "      <td>166699</td>\n",
              "      <td>835716681</td>\n",
              "      <td>G</td>\n",
              "      <td>1</td>\n",
              "      <td>4.2116</td>\n",
              "      <td>2.2366</td>\n",
              "      <td>-0.4849</td>\n",
              "      <td>19.9382</td>\n",
              "      <td>3.7261</td>\n",
              "      <td>-1.9631</td>\n",
              "      <td>...</td>\n",
              "      <td>-1</td>\n",
              "      <td>1.2556</td>\n",
              "      <td>2.2683</td>\n",
              "      <td>-1.4488</td>\n",
              "      <td>6.1319</td>\n",
              "      <td>0.1528</td>\n",
              "      <td>-1.2463</td>\n",
              "      <td>6.0011</td>\n",
              "      <td>2.1330</td>\n",
              "      <td>2.145853</td>\n",
              "    </tr>\n",
              "    <tr>\n",
              "      <th>1</th>\n",
              "      <td>166699</td>\n",
              "      <td>836133459</td>\n",
              "      <td>G</td>\n",
              "      <td>-1</td>\n",
              "      <td>2.1479</td>\n",
              "      <td>-2.0159</td>\n",
              "      <td>-2.7753</td>\n",
              "      <td>8.2066</td>\n",
              "      <td>-2.0055</td>\n",
              "      <td>-0.7692</td>\n",
              "      <td>...</td>\n",
              "      <td>1</td>\n",
              "      <td>19.5453</td>\n",
              "      <td>-1.0826</td>\n",
              "      <td>-0.3408</td>\n",
              "      <td>32.1613</td>\n",
              "      <td>18.4210</td>\n",
              "      <td>-6.5332</td>\n",
              "      <td>-25.5406</td>\n",
              "      <td>13.6786</td>\n",
              "      <td>13.680958</td>\n",
              "    </tr>\n",
              "    <tr>\n",
              "      <th>2</th>\n",
              "      <td>166699</td>\n",
              "      <td>836165498</td>\n",
              "      <td>G</td>\n",
              "      <td>1</td>\n",
              "      <td>21.0732</td>\n",
              "      <td>1.5948</td>\n",
              "      <td>-1.1137</td>\n",
              "      <td>54.0560</td>\n",
              "      <td>9.2997</td>\n",
              "      <td>-18.9102</td>\n",
              "      <td>...</td>\n",
              "      <td>-1</td>\n",
              "      <td>2.3864</td>\n",
              "      <td>1.5352</td>\n",
              "      <td>-1.7388</td>\n",
              "      <td>5.7968</td>\n",
              "      <td>-0.3991</td>\n",
              "      <td>-2.3528</td>\n",
              "      <td>5.2818</td>\n",
              "      <td>4.3813</td>\n",
              "      <td>4.395351</td>\n",
              "    </tr>\n",
              "    <tr>\n",
              "      <th>3</th>\n",
              "      <td>166699</td>\n",
              "      <td>836249706</td>\n",
              "      <td>G</td>\n",
              "      <td>1</td>\n",
              "      <td>18.5889</td>\n",
              "      <td>1.6422</td>\n",
              "      <td>1.1923</td>\n",
              "      <td>49.8180</td>\n",
              "      <td>6.8688</td>\n",
              "      <td>17.2734</td>\n",
              "      <td>...</td>\n",
              "      <td>-1</td>\n",
              "      <td>1.8721</td>\n",
              "      <td>1.9704</td>\n",
              "      <td>1.6393</td>\n",
              "      <td>6.8459</td>\n",
              "      <td>-0.1281</td>\n",
              "      <td>1.8678</td>\n",
              "      <td>6.5841</td>\n",
              "      <td>3.2587</td>\n",
              "      <td>3.273007</td>\n",
              "    </tr>\n",
              "    <tr>\n",
              "      <th>4</th>\n",
              "      <td>166699</td>\n",
              "      <td>835608783</td>\n",
              "      <td>G</td>\n",
              "      <td>-1</td>\n",
              "      <td>11.8194</td>\n",
              "      <td>0.8711</td>\n",
              "      <td>-1.5811</td>\n",
              "      <td>16.5947</td>\n",
              "      <td>-0.1214</td>\n",
              "      <td>-11.8187</td>\n",
              "      <td>...</td>\n",
              "      <td>1</td>\n",
              "      <td>0.9408</td>\n",
              "      <td>2.0107</td>\n",
              "      <td>-1.6559</td>\n",
              "      <td>3.5779</td>\n",
              "      <td>-0.0799</td>\n",
              "      <td>-0.9374</td>\n",
              "      <td>3.4504</td>\n",
              "      <td>4.0171</td>\n",
              "      <td>4.026974</td>\n",
              "    </tr>\n",
              "  </tbody>\n",
              "</table>\n",
              "<p>5 rows × 22 columns</p>\n",
              "</div>"
            ],
            "text/plain": [
              "      Run      Event type1  Q1      pt1    eta1    phi1       E1     px1  \\\n",
              "0  166699  835716681     G   1   4.2116  2.2366 -0.4849  19.9382  3.7261   \n",
              "1  166699  836133459     G  -1   2.1479 -2.0159 -2.7753   8.2066 -2.0055   \n",
              "2  166699  836165498     G   1  21.0732  1.5948 -1.1137  54.0560  9.2997   \n",
              "3  166699  836249706     G   1  18.5889  1.6422  1.1923  49.8180  6.8688   \n",
              "4  166699  835608783     G  -1  11.8194  0.8711 -1.5811  16.5947 -0.1214   \n",
              "\n",
              "       py1       ...        Q2      pt2    eta2    phi2       E2      px2  \\\n",
              "0  -1.9631       ...        -1   1.2556  2.2683 -1.4488   6.1319   0.1528   \n",
              "1  -0.7692       ...         1  19.5453 -1.0826 -0.3408  32.1613  18.4210   \n",
              "2 -18.9102       ...        -1   2.3864  1.5352 -1.7388   5.7968  -0.3991   \n",
              "3  17.2734       ...        -1   1.8721  1.9704  1.6393   6.8459  -0.1281   \n",
              "4 -11.8187       ...         1   0.9408  2.0107 -1.6559   3.5779  -0.0799   \n",
              "\n",
              "      py2      pz2        M  Masainvariante  \n",
              "0 -1.2463   6.0011   2.1330        2.145853  \n",
              "1 -6.5332 -25.5406  13.6786       13.680958  \n",
              "2 -2.3528   5.2818   4.3813        4.395351  \n",
              "3  1.8678   6.5841   3.2587        3.273007  \n",
              "4 -0.9374   3.4504   4.0171        4.026974  \n",
              "\n",
              "[5 rows x 22 columns]"
            ]
          },
          "metadata": {
            "tags": []
          },
          "execution_count": 2
        }
      ]
    },
    {
      "metadata": {
        "id": "vnoUot6jwZaG",
        "colab_type": "code",
        "outputId": "f041614d-3cba-42f8-d5db-277d19251504",
        "colab": {
          "base_uri": "https://localhost:8080/",
          "height": 34
        }
      },
      "cell_type": "code",
      "source": [
        "len(muons)"
      ],
      "execution_count": 0,
      "outputs": [
        {
          "output_type": "execute_result",
          "data": {
            "text/plain": [
              "83761"
            ]
          },
          "metadata": {
            "tags": []
          },
          "execution_count": 3
        }
      ]
    },
    {
      "metadata": {
        "id": "bbwJaeofwbk2",
        "colab_type": "code",
        "outputId": "0beb1daa-35ba-4984-dcbc-cde4fccc69a6",
        "colab": {
          "base_uri": "https://localhost:8080/",
          "height": 718
        }
      },
      "cell_type": "code",
      "source": [
        "fig= plt.figure(figsize=(15,10))\n",
        "plt.hist(muons.Masainvariante, 300, range=(0,150))\n",
        "plt.xlabel('Invariant mass (GeV/$c^2$)', fontsize = 15)\n",
        "plt.ylabel('Number of events \\n', fontsize = 15)\n",
        "plt.title('Measured distribution of events with two muons \\n', fontsize = 15)\n",
        "\n",
        "plt.show()"
      ],
      "execution_count": 0,
      "outputs": [
        {
          "output_type": "stream",
          "text": [
            "/usr/local/lib/python3.6/dist-packages/numpy/lib/function_base.py:780: RuntimeWarning: invalid value encountered in greater_equal\n",
            "  keep = (tmp_a >= first_edge)\n",
            "/usr/local/lib/python3.6/dist-packages/numpy/lib/function_base.py:781: RuntimeWarning: invalid value encountered in less_equal\n",
            "  keep &= (tmp_a <= last_edge)\n"
          ],
          "name": "stderr"
        },
        {
          "output_type": "display_data",
          "data": {
            "image/png": "[encoded data removed]",
            "text/plain": [
              "<Figure size 1080x720 with 1 Axes>"
            ]
          },
          "metadata": {
            "tags": []
          }
        }
      ]
    },
    {
      "metadata": {
        "id": "Ge5vkxcOwii6",
        "colab_type": "code",
        "outputId": "93e779e9-4a6e-4582-b7b3-aa188206516e",
        "colab": {
          "base_uri": "https://localhost:8080/",
          "height": 650
        }
      },
      "cell_type": "code",
      "source": [
        "bump= muons[(muons.Masainvariante >= 80) & (muons.Masainvariante <= 100)]\n",
        "\n",
        "fig = plt.figure(figsize=(15, 10))\n",
        "\n",
        "plt.hist(bump.Masainvariante, 300, range = (80,100))\n",
        "\n",
        "plt.xlabel('Invariant mass (GeV/$c^2$)', fontsize = 15)\n",
        "plt.ylabel('Number of events \\n', fontsize = 15)\n",
        "plt.title('Measured distribution of events with two muons \\n', fontsize = 15)\n",
        "\n",
        "plt.show()\n"
      ],
      "execution_count": 0,
      "outputs": [
        {
          "output_type": "display_data",
          "data": {
            "image/png": "[encoded data removed]",
            "text/plain": [
              "<Figure size 1080x720 with 1 Axes>"
            ]
          },
          "metadata": {
            "tags": []
          }
        }
      ]
    },
    {
      "metadata": {
        "id": "smTJmVXMFmPU",
        "colab_type": "code",
        "outputId": "3b2c5b31-0919-4b60-9761-9b8febd394d6",
        "colab": {
          "base_uri": "https://localhost:8080/",
          "height": 34
        }
      },
      "cell_type": "code",
      "source": [
        "len(bump)"
      ],
      "execution_count": 0,
      "outputs": [
        {
          "output_type": "execute_result",
          "data": {
            "text/plain": [
              "11135"
            ]
          },
          "metadata": {
            "tags": []
          },
          "execution_count": 8
        }
      ]
    },
    {
      "metadata": {
        "id": "ClXY1RNtHAlt",
        "colab_type": "code",
        "outputId": "ac52ff2e-54fe-426b-88a2-6b2bbe2cca74",
        "colab": {
          "base_uri": "https://localhost:8080/",
          "height": 610
        }
      },
      "cell_type": "code",
      "source": [
        "fig= plt.figure(figsize=(15,10))\n",
        "plt.hist(muons.eta1, 300)\n",
        "plt.xlabel('Eta1', fontsize = 15)\n",
        "plt.ylabel('Number of events \\n', fontsize = 15)\n",
        "\n",
        "plt.show()"
      ],
      "execution_count": 0,
      "outputs": [
        {
          "output_type": "display_data",
          "data": {
            "image/png": "[encoded data removed]",
            "text/plain": [
              "<Figure size 1080x720 with 1 Axes>"
            ]
          },
          "metadata": {
            "tags": []
          }
        }
      ]
    },
    {
      "metadata": {
        "id": "GXrIar3nIl9p",
        "colab_type": "code",
        "outputId": "ffa9fb37-9aa8-41c0-9ea7-ce727f74d844",
        "colab": {
          "base_uri": "https://localhost:8080/",
          "height": 612
        }
      },
      "cell_type": "code",
      "source": [
        "fig= plt.figure(figsize=(15,10))\n",
        "plt.hist(muons.eta2, 300)\n",
        "plt.xlabel('Eta1', fontsize = 15)\n",
        "plt.ylabel('Number of events \\n', fontsize = 15)\n",
        "\n",
        "plt.show()"
      ],
      "execution_count": 0,
      "outputs": [
        {
          "output_type": "display_data",
          "data": {
            "image/png": "[encoded data removed]",
            "text/plain": [
              "<Figure size 1080x720 with 1 Axes>"
            ]
          },
          "metadata": {
            "tags": []
          }
        }
      ]
    }
  ]
}